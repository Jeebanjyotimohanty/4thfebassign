{
 "cells": [
  {
   "cell_type": "code",
   "execution_count": 3,
   "id": "3658ca8d-8cfd-40b8-a15f-9e75038f0572",
   "metadata": {},
   "outputs": [],
   "source": [
    "#1)"
   ]
  },
  {
   "cell_type": "code",
   "execution_count": 4,
   "id": "4ad7446e-f4f1-4ae6-943f-8f25b714a08f",
   "metadata": {},
   "outputs": [],
   "source": [
    "l=[(\"Sachin Tendulkar\", 34357), (\"Ricky Ponting\", 27483), (\"Jack Kallis\", 25534), (\"Virat Kohli\", 24936)]"
   ]
  },
  {
   "cell_type": "code",
   "execution_count": 18,
   "id": "4a3219be-5c8d-4994-96b4-b6f329853787",
   "metadata": {},
   "outputs": [],
   "source": [
    "newlist=sorted(l,key=lambda x : x[1],reverse=False)"
   ]
  },
  {
   "cell_type": "code",
   "execution_count": 19,
   "id": "68cae215-c575-43c2-b962-c3385771e5b2",
   "metadata": {},
   "outputs": [
    {
     "data": {
      "text/plain": [
       "[('Virat Kohli', 24936),\n",
       " ('Jack Kallis', 25534),\n",
       " ('Ricky Ponting', 27483),\n",
       " ('Sachin Tendulkar', 34357)]"
      ]
     },
     "execution_count": 19,
     "metadata": {},
     "output_type": "execute_result"
    }
   ],
   "source": [
    "newlist"
   ]
  },
  {
   "cell_type": "code",
   "execution_count": 20,
   "id": "33095c47-29a2-4e36-a8e6-e841fadeb530",
   "metadata": {},
   "outputs": [],
   "source": [
    "#2)\n",
    "l1=[1, 2, 3, 4, 5, 6, 7, 8, 9, 10]"
   ]
  },
  {
   "cell_type": "code",
   "execution_count": 22,
   "id": "159de28d-7a0c-4e12-8967-686b829061e6",
   "metadata": {},
   "outputs": [
    {
     "data": {
      "text/plain": [
       "[1, 4, 9, 16, 25, 36, 49, 64, 81, 100]"
      ]
     },
     "execution_count": 22,
     "metadata": {},
     "output_type": "execute_result"
    }
   ],
   "source": [
    "result=list(map(lambda x : x**2,l1))\n",
    "result"
   ]
  },
  {
   "cell_type": "code",
   "execution_count": 23,
   "id": "9bba85f1-b815-43ac-9c01-754de6df8a9b",
   "metadata": {},
   "outputs": [],
   "source": [
    "#3)\n",
    "l2=[1, 2, 3, 4, 5, 6, 7, 8, 9, 10]"
   ]
  },
  {
   "cell_type": "code",
   "execution_count": 25,
   "id": "8c412856-ba2d-4d09-8e30-3a804b546be3",
   "metadata": {},
   "outputs": [
    {
     "data": {
      "text/plain": [
       "('1', '2', '3', '4', '5', '6', '7', '8', '9', '10')"
      ]
     },
     "execution_count": 25,
     "metadata": {},
     "output_type": "execute_result"
    }
   ],
   "source": [
    "result1=tuple(map(lambda x: str(x),l2))\n",
    "result1"
   ]
  },
  {
   "cell_type": "code",
   "execution_count": 67,
   "id": "7285ac8b-af5b-4dd1-8a9d-71c7ef307b4f",
   "metadata": {},
   "outputs": [],
   "source": [
    "#4)\n",
    "l3=[]\n",
    "def lis(n):\n",
    "\n",
    "    for i in range(1,n+1):\n",
    "        l3.append(i)\n",
    "        \n",
    "lis(25)\n"
   ]
  },
  {
   "cell_type": "code",
   "execution_count": 68,
   "id": "fb47c12a-c677-4c0b-9c8b-bbc09878b3d0",
   "metadata": {},
   "outputs": [
    {
     "data": {
      "text/plain": [
       "[1,\n",
       " 2,\n",
       " 3,\n",
       " 4,\n",
       " 5,\n",
       " 6,\n",
       " 7,\n",
       " 8,\n",
       " 9,\n",
       " 10,\n",
       " 11,\n",
       " 12,\n",
       " 13,\n",
       " 14,\n",
       " 15,\n",
       " 16,\n",
       " 17,\n",
       " 18,\n",
       " 19,\n",
       " 20,\n",
       " 21,\n",
       " 22,\n",
       " 23,\n",
       " 24,\n",
       " 25]"
      ]
     },
     "execution_count": 68,
     "metadata": {},
     "output_type": "execute_result"
    }
   ],
   "source": [
    "l3"
   ]
  },
  {
   "cell_type": "code",
   "execution_count": 69,
   "id": "7711de96-0a5c-4f46-bfc6-29193d3966d8",
   "metadata": {},
   "outputs": [],
   "source": [
    "from functools import reduce"
   ]
  },
  {
   "cell_type": "code",
   "execution_count": 70,
   "id": "9f62ae13-7dad-492f-a370-5bd466947728",
   "metadata": {},
   "outputs": [],
   "source": [
    "result3=reduce(lambda x,y:x*y,l3)"
   ]
  },
  {
   "cell_type": "code",
   "execution_count": 71,
   "id": "2937e24a-a4a0-4487-a056-5109676f20fe",
   "metadata": {},
   "outputs": [
    {
     "data": {
      "text/plain": [
       "15511210043330985984000000"
      ]
     },
     "execution_count": 71,
     "metadata": {},
     "output_type": "execute_result"
    }
   ],
   "source": [
    "result3"
   ]
  },
  {
   "cell_type": "code",
   "execution_count": 72,
   "id": "e4edcec6-47bd-4288-b925-412367950454",
   "metadata": {},
   "outputs": [],
   "source": [
    "#5)\n",
    "l4=[2, 3, 6, 9, 27, 60, 90, 120, 55, 46]"
   ]
  },
  {
   "cell_type": "code",
   "execution_count": 73,
   "id": "0bbdad5e-a043-4a0d-9dd8-96e9014406ec",
   "metadata": {},
   "outputs": [],
   "source": [
    "return4=list(filter(lambda x : x%2==0 and x%3==0 ,l4))"
   ]
  },
  {
   "cell_type": "code",
   "execution_count": 74,
   "id": "882464fd-ee91-49d4-a2cb-65ed025544bc",
   "metadata": {},
   "outputs": [
    {
     "data": {
      "text/plain": [
       "[6, 60, 90, 120]"
      ]
     },
     "execution_count": 74,
     "metadata": {},
     "output_type": "execute_result"
    }
   ],
   "source": [
    "return4"
   ]
  },
  {
   "cell_type": "code",
   "execution_count": 75,
   "id": "38e7cf57-b322-422f-8b10-5c011d1ad803",
   "metadata": {},
   "outputs": [],
   "source": [
    "#6)\n",
    "l5=['python', 'php', 'aba', 'radar', 'level']"
   ]
  },
  {
   "cell_type": "code",
   "execution_count": 65,
   "id": "1118c71a-4897-45d3-805c-37e335211e04",
   "metadata": {},
   "outputs": [],
   "source": [
    "return5=list(filter(lambda x:x==x[::-1],l5))"
   ]
  },
  {
   "cell_type": "code",
   "execution_count": 66,
   "id": "88274c7c-a451-4e41-9d47-79c71294dadf",
   "metadata": {},
   "outputs": [
    {
     "data": {
      "text/plain": [
       "['php', 'aba', 'radar', 'level']"
      ]
     },
     "execution_count": 66,
     "metadata": {},
     "output_type": "execute_result"
    }
   ],
   "source": [
    "return5"
   ]
  },
  {
   "cell_type": "code",
   "execution_count": null,
   "id": "ee3fbe6c-5ee7-4633-a634-eabd4f6c0732",
   "metadata": {},
   "outputs": [],
   "source": []
  }
 ],
 "metadata": {
  "kernelspec": {
   "display_name": "Python 3 (ipykernel)",
   "language": "python",
   "name": "python3"
  },
  "language_info": {
   "codemirror_mode": {
    "name": "ipython",
    "version": 3
   },
   "file_extension": ".py",
   "mimetype": "text/x-python",
   "name": "python",
   "nbconvert_exporter": "python",
   "pygments_lexer": "ipython3",
   "version": "3.10.8"
  }
 },
 "nbformat": 4,
 "nbformat_minor": 5
}
